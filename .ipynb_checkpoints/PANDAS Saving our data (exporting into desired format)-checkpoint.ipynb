{
 "cells": [
  {
   "cell_type": "markdown",
   "metadata": {},
   "source": [
    "## Guardar en csv"
   ]
  },
  {
   "cell_type": "code",
   "execution_count": null,
   "metadata": {
    "collapsed": true
   },
   "outputs": [],
   "source": [
    "##para guardar un csv:\n",
    "#df.to_csv =('/Users/andressalomferrer/Desktop/pokemon_data.csv/modified.csv')"
   ]
  },
  {
   "cell_type": "code",
   "execution_count": null,
   "metadata": {
    "collapsed": true
   },
   "outputs": [],
   "source": [
    "##para guardar un csv pero que no se nos genere una nueva columna de index automatica\n",
    "#df.to_csv =('/Users/andressalomferrer/Desktop/pokemon_data.csv/modified.csv', index = False)"
   ]
  },
  {
   "cell_type": "code",
   "execution_count": null,
   "metadata": {
    "collapsed": true
   },
   "outputs": [],
   "source": [
    "## Si guardamos un csv modificado y no queremos que se nos cree con el indice antiguo pq hemos\n",
    "##quitado muchas rows, por ej.\n",
    "##Por defecto, aunque hagamos reset index, al lado del nuevo indice, se nos creará una columna \n",
    "##con el antiguo index. Si no queremos que pase, lo tendremos que especificar con drop = True\n",
    "\n",
    "#new_df.to_csv('/Users/andressalomferrer/Desktop/pokemon_data.csv/modified.csv')\n",
    "#new_df = new_df.reset_index(drop = True)\n",
    "\n",
    "#con el inplace, en lugar de crear una copia, modificamos el original\n",
    "#new_df = new_df.reset_index(drop = True, inplace = True)"
   ]
  },
  {
   "cell_type": "markdown",
   "metadata": {},
   "source": [
    "## txt to csv"
   ]
  },
  {
   "cell_type": "code",
   "execution_count": null,
   "metadata": {
    "collapsed": true
   },
   "outputs": [],
   "source": [
    "# \\t significa tabulador, es cuando queremos especificar como queremos separar el txt, en este caso es con tabulación \n",
    "#df.to_csv =('/Users/andressalomferrer/Desktop/pokemon_data.csv/modified.csv', sep = '\\t')"
   ]
  },
  {
   "cell_type": "markdown",
   "metadata": {},
   "source": [
    "## Guardar a excel"
   ]
  },
  {
   "cell_type": "code",
   "execution_count": null,
   "metadata": {
    "collapsed": true
   },
   "outputs": [],
   "source": [
    "#df.to_xlsx =('/Users/andressalomferrer/Desktop/pokemon_data.csv/modified.csv')"
   ]
  },
  {
   "cell_type": "code",
   "execution_count": null,
   "metadata": {
    "collapsed": true
   },
   "outputs": [],
   "source": [
    "##para guardar un excel pero que no se nos genere una nueva columna de index automatica\n",
    "#df.to_xlsx =('/Users/andressalomferrer/Desktop/pokemon_data.csv/modified.csv', index = False)"
   ]
  }
 ],
 "metadata": {
  "kernelspec": {
   "display_name": "Python 3",
   "language": "python",
   "name": "python3"
  },
  "language_info": {
   "codemirror_mode": {
    "name": "ipython",
    "version": 3
   },
   "file_extension": ".py",
   "mimetype": "text/x-python",
   "name": "python",
   "nbconvert_exporter": "python",
   "pygments_lexer": "ipython3",
   "version": "3.6.3"
  }
 },
 "nbformat": 4,
 "nbformat_minor": 2
}
